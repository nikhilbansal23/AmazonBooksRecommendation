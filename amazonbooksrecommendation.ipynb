{
 "cells": [
  {
   "cell_type": "code",
   "execution_count": 1,
   "id": "92b0856c",
   "metadata": {
    "_cell_guid": "b1076dfc-b9ad-4769-8c92-a6c4dae69d19",
    "_uuid": "8f2839f25d086af736a60e9eeb907d3b93b6e0e5",
    "execution": {
     "iopub.execute_input": "2024-03-01T17:50:35.899215Z",
     "iopub.status.busy": "2024-03-01T17:50:35.898372Z",
     "iopub.status.idle": "2024-03-01T17:50:38.761761Z",
     "shell.execute_reply": "2024-03-01T17:50:38.760618Z"
    },
    "papermill": {
     "duration": 2.874386,
     "end_time": "2024-03-01T17:50:38.764189",
     "exception": false,
     "start_time": "2024-03-01T17:50:35.889803",
     "status": "completed"
    },
    "tags": []
   },
   "outputs": [
    {
     "name": "stdout",
     "output_type": "stream",
     "text": [
      "/kaggle/input/amazon-books-dataset/Amazon_Books_Scraping/Genre_df.csv\n",
      "/kaggle/input/amazon-books-dataset/Amazon_Books_Scraping/Books_df.csv\n",
      "/kaggle/input/amazon-books-dataset/Amazon_Books_Scraping/Sub_Genre_df.csv\n"
     ]
    }
   ],
   "source": [
    "# This Python 3 environment comes with many helpful analytics libraries installed\n",
    "# It is defined by the kaggle/python Docker image: https://github.com/kaggle/docker-python\n",
    "# For example, here's several helpful packages to load\n",
    "\n",
    "import pandas as pd\n",
    "import numpy as np\n",
    "import matplotlib.pyplot as plt\n",
    "import seaborn as sns\n",
    "import plotly.express as px\n",
    "# Input data files are available in the read-only \"../input/\" directory\n",
    "# For example, running this (by clicking run or pressing Shift+Enter) will list all files under the input directory\n",
    "\n",
    "import os\n",
    "for dirname, _, filenames in os.walk('/kaggle/input'):\n",
    "    for filename in filenames:\n",
    "        print(os.path.join(dirname, filename))\n",
    "\n",
    "# You can write up to 20GB to the current directory (/kaggle/working/) that gets preserved as output when you create a version using \"Save & Run All\" \n",
    "# You can also write temporary files to /kaggle/temp/, but they won't be saved outside of the current session"
   ]
  },
  {
   "cell_type": "code",
   "execution_count": 2,
   "id": "cc13b1c9",
   "metadata": {
    "execution": {
     "iopub.execute_input": "2024-03-01T17:50:38.778167Z",
     "iopub.status.busy": "2024-03-01T17:50:38.777440Z",
     "iopub.status.idle": "2024-03-01T17:50:38.781767Z",
     "shell.execute_reply": "2024-03-01T17:50:38.781087Z"
    },
    "papermill": {
     "duration": 0.013143,
     "end_time": "2024-03-01T17:50:38.783743",
     "exception": false,
     "start_time": "2024-03-01T17:50:38.770600",
     "status": "completed"
    },
    "tags": []
   },
   "outputs": [],
   "source": [
    "pd.set_option('display.max_columns', None)\n",
    "pd.set_option('display.max_rows', None)\n",
    "pd.set_option('display.max_colwidth', None)\n",
    "     "
   ]
  },
  {
   "cell_type": "code",
   "execution_count": 3,
   "id": "b0b7a5a6",
   "metadata": {
    "execution": {
     "iopub.execute_input": "2024-03-01T17:50:38.796608Z",
     "iopub.status.busy": "2024-03-01T17:50:38.796055Z",
     "iopub.status.idle": "2024-03-01T17:50:38.911153Z",
     "shell.execute_reply": "2024-03-01T17:50:38.910261Z"
    },
    "papermill": {
     "duration": 0.124541,
     "end_time": "2024-03-01T17:50:38.913712",
     "exception": false,
     "start_time": "2024-03-01T17:50:38.789171",
     "status": "completed"
    },
    "tags": []
   },
   "outputs": [],
   "source": [
    "books = pd.read_csv('/kaggle/input/amazon-books-dataset/Amazon_Books_Scraping/Books_df.csv')\n",
    "genre = pd.read_csv('/kaggle/input/amazon-books-dataset/Amazon_Books_Scraping/Genre_df.csv')\n",
    "sub_genre = pd.read_csv('/kaggle/input/amazon-books-dataset/Amazon_Books_Scraping/Sub_Genre_df.csv')"
   ]
  },
  {
   "cell_type": "code",
   "execution_count": 4,
   "id": "d90a5f54",
   "metadata": {
    "execution": {
     "iopub.execute_input": "2024-03-01T17:50:38.926443Z",
     "iopub.status.busy": "2024-03-01T17:50:38.926091Z",
     "iopub.status.idle": "2024-03-01T17:50:38.938964Z",
     "shell.execute_reply": "2024-03-01T17:50:38.938114Z"
    },
    "papermill": {
     "duration": 0.021594,
     "end_time": "2024-03-01T17:50:38.941055",
     "exception": false,
     "start_time": "2024-03-01T17:50:38.919461",
     "status": "completed"
    },
    "tags": []
   },
   "outputs": [],
   "source": [
    "books.drop(['Unnamed: 0'], axis=1,inplace = True)"
   ]
  },
  {
   "cell_type": "code",
   "execution_count": 5,
   "id": "3d98c2ec",
   "metadata": {
    "execution": {
     "iopub.execute_input": "2024-03-01T17:50:38.954245Z",
     "iopub.status.busy": "2024-03-01T17:50:38.953261Z",
     "iopub.status.idle": "2024-03-01T17:50:38.960962Z",
     "shell.execute_reply": "2024-03-01T17:50:38.960119Z"
    },
    "papermill": {
     "duration": 0.01642,
     "end_time": "2024-03-01T17:50:38.962991",
     "exception": false,
     "start_time": "2024-03-01T17:50:38.946571",
     "status": "completed"
    },
    "tags": []
   },
   "outputs": [
    {
     "data": {
      "text/plain": [
       "Index(['Title', 'Number of Sub-genres', 'URL'], dtype='object')"
      ]
     },
     "execution_count": 5,
     "metadata": {},
     "output_type": "execute_result"
    }
   ],
   "source": [
    "genre.columns"
   ]
  },
  {
   "cell_type": "code",
   "execution_count": 6,
   "id": "b28587d0",
   "metadata": {
    "execution": {
     "iopub.execute_input": "2024-03-01T17:50:38.976601Z",
     "iopub.status.busy": "2024-03-01T17:50:38.975920Z",
     "iopub.status.idle": "2024-03-01T17:50:39.008231Z",
     "shell.execute_reply": "2024-03-01T17:50:39.006886Z"
    },
    "papermill": {
     "duration": 0.042438,
     "end_time": "2024-03-01T17:50:39.011117",
     "exception": false,
     "start_time": "2024-03-01T17:50:38.968679",
     "status": "completed"
    },
    "tags": []
   },
   "outputs": [],
   "source": [
    "# Join df1 and df2 on different columns\n",
    "merged_df = pd.merge(books, genre, left_on='Main Genre', right_on='Title', how='inner')\n",
    "# merged_df.head(10)\n",
    "# # # Join the resulting DataFrame with df3 on another column\n",
    "final_df = pd.merge(merged_df, sub_genre, left_on='Sub Genre', right_on='Title', how='inner')\n"
   ]
  },
  {
   "cell_type": "markdown",
   "id": "c78f6488",
   "metadata": {
    "papermill": {
     "duration": 0.005542,
     "end_time": "2024-03-01T17:50:39.022745",
     "exception": false,
     "start_time": "2024-03-01T17:50:39.017203",
     "status": "completed"
    },
    "tags": []
   },
   "source": [
    "#   Data Pre-Processing"
   ]
  },
  {
   "cell_type": "code",
   "execution_count": 7,
   "id": "98bb8757",
   "metadata": {
    "execution": {
     "iopub.execute_input": "2024-03-01T17:50:39.035793Z",
     "iopub.status.busy": "2024-03-01T17:50:39.035359Z",
     "iopub.status.idle": "2024-03-01T17:50:39.043008Z",
     "shell.execute_reply": "2024-03-01T17:50:39.042192Z"
    },
    "papermill": {
     "duration": 0.017038,
     "end_time": "2024-03-01T17:50:39.045377",
     "exception": false,
     "start_time": "2024-03-01T17:50:39.028339",
     "status": "completed"
    },
    "tags": []
   },
   "outputs": [],
   "source": [
    "final_df.drop(['Title_y','Number of Sub-genres','Title','Main Genre_y','URLs_y','No. of Books'],axis =1,inplace=True)"
   ]
  },
  {
   "cell_type": "code",
   "execution_count": 8,
   "id": "931ddf4e",
   "metadata": {
    "execution": {
     "iopub.execute_input": "2024-03-01T17:50:39.059846Z",
     "iopub.status.busy": "2024-03-01T17:50:39.059437Z",
     "iopub.status.idle": "2024-03-01T17:50:39.065312Z",
     "shell.execute_reply": "2024-03-01T17:50:39.064235Z"
    },
    "papermill": {
     "duration": 0.015421,
     "end_time": "2024-03-01T17:50:39.067516",
     "exception": false,
     "start_time": "2024-03-01T17:50:39.052095",
     "status": "completed"
    },
    "tags": []
   },
   "outputs": [],
   "source": [
    "column_mapping = {'Title_x': 'Book_Title',\n",
    "                  'Main Genre_x': 'Main Genre',\n",
    "                  'URLs_x': 'Book_URL',\n",
    "                 'URL': 'Genre_URL'\n",
    "                 }\n",
    "final_df.rename(columns = column_mapping, inplace =True)"
   ]
  },
  {
   "cell_type": "code",
   "execution_count": 9,
   "id": "c4f1fa10",
   "metadata": {
    "execution": {
     "iopub.execute_input": "2024-03-01T17:50:39.080926Z",
     "iopub.status.busy": "2024-03-01T17:50:39.080488Z",
     "iopub.status.idle": "2024-03-01T17:50:39.733090Z",
     "shell.execute_reply": "2024-03-01T17:50:39.732021Z"
    },
    "papermill": {
     "duration": 0.662216,
     "end_time": "2024-03-01T17:50:39.735484",
     "exception": false,
     "start_time": "2024-03-01T17:50:39.073268",
     "status": "completed"
    },
    "tags": []
   },
   "outputs": [
    {
     "data": {
      "image/png": "[encoded data removed]",
      "text/plain": [
       "<Figure size 1000x600 with 1 Axes>"
      ]
     },
     "metadata": {},
     "output_type": "display_data"
    }
   ],
   "source": [
    "# Check for missing data using heatmap. Looks like we are good to go with missing data handling\n",
    "missing_data = final_df.isnull().sum()\n",
    "\n",
    "# Visualize missing data\n",
    "plt.figure(figsize=(10, 6))\n",
    "sns.heatmap(final_df.isnull(), cbar=False, cmap='viridis')\n",
    "plt.title('Missing Data Heatmap')\n",
    "plt.show()\n"
   ]
  },
  {
   "cell_type": "code",
   "execution_count": 10,
   "id": "5cef2257",
   "metadata": {
    "execution": {
     "iopub.execute_input": "2024-03-01T17:50:39.750820Z",
     "iopub.status.busy": "2024-03-01T17:50:39.750420Z",
     "iopub.status.idle": "2024-03-01T17:50:39.769848Z",
     "shell.execute_reply": "2024-03-01T17:50:39.768515Z"
    },
    "papermill": {
     "duration": 0.030089,
     "end_time": "2024-03-01T17:50:39.772364",
     "exception": false,
     "start_time": "2024-03-01T17:50:39.742275",
     "status": "completed"
    },
    "tags": []
   },
   "outputs": [],
   "source": [
    "# Remove currency symbol from 'Price' and convert to float\n",
    "final_df['Price'] = final_df['Price'].str.replace('₹', '').str.replace(',', '').astype(float)"
   ]
  },
  {
   "cell_type": "code",
   "execution_count": 11,
   "id": "23ca7369",
   "metadata": {
    "execution": {
     "iopub.execute_input": "2024-03-01T17:50:39.788379Z",
     "iopub.status.busy": "2024-03-01T17:50:39.788005Z",
     "iopub.status.idle": "2024-03-01T17:50:39.813760Z",
     "shell.execute_reply": "2024-03-01T17:50:39.812916Z"
    },
    "papermill": {
     "duration": 0.036667,
     "end_time": "2024-03-01T17:50:39.816159",
     "exception": false,
     "start_time": "2024-03-01T17:50:39.779492",
     "status": "completed"
    },
    "tags": []
   },
   "outputs": [
    {
     "name": "stdout",
     "output_type": "stream",
     "text": [
      "<class 'pandas.core.frame.DataFrame'>\n",
      "RangeIndex: 9574 entries, 0 to 9573\n",
      "Data columns (total 10 columns):\n",
      " #   Column               Non-Null Count  Dtype  \n",
      "---  ------               --------------  -----  \n",
      " 0   Book_Title           9574 non-null   object \n",
      " 1   Author               9549 non-null   object \n",
      " 2   Main Genre           9574 non-null   object \n",
      " 3   Sub Genre            9574 non-null   object \n",
      " 4   Type                 9574 non-null   object \n",
      " 5   Price                9574 non-null   float64\n",
      " 6   Rating               9574 non-null   float64\n",
      " 7   No. of People rated  9574 non-null   float64\n",
      " 8   Book_URL             9574 non-null   object \n",
      " 9   Genre_URL            9574 non-null   object \n",
      "dtypes: float64(3), object(7)\n",
      "memory usage: 748.1+ KB\n"
     ]
    }
   ],
   "source": [
    "final_df.info()"
   ]
  },
  {
   "cell_type": "markdown",
   "id": "71335ab2",
   "metadata": {
    "papermill": {
     "duration": 0.006774,
     "end_time": "2024-03-01T17:50:39.829908",
     "exception": false,
     "start_time": "2024-03-01T17:50:39.823134",
     "status": "completed"
    },
    "tags": []
   },
   "source": [
    "# Recommendation Model Code"
   ]
  },
  {
   "cell_type": "code",
   "execution_count": 12,
   "id": "70c77ced",
   "metadata": {
    "execution": {
     "iopub.execute_input": "2024-03-01T17:50:39.845639Z",
     "iopub.status.busy": "2024-03-01T17:50:39.845214Z",
     "iopub.status.idle": "2024-03-01T17:50:44.107451Z",
     "shell.execute_reply": "2024-03-01T17:50:44.106341Z"
    },
    "papermill": {
     "duration": 4.273139,
     "end_time": "2024-03-01T17:50:44.109980",
     "exception": false,
     "start_time": "2024-03-01T17:50:39.836841",
     "status": "completed"
    },
    "tags": []
   },
   "outputs": [
    {
     "name": "stdout",
     "output_type": "stream",
     "text": [
      "Recommended Titles:\n",
      "732                                                                                                    The Hundred Dresses\n",
      "746    George and the Unbreakable Code (Book 4) (George's Secret Key to the Universe) [Paperback] Lucy and Stephen Hawking\n",
      "737                                                                                                    How To Catch A Star\n",
      "717                                                                                         Time Travelling with a Hamster\n",
      "735                                                                                    George's Secret Key to the Universe\n",
      "744              There’s No Place Like Space!: All about our SOLAR SYSTEM.: Book 7 (The Cat in the Hat’s Learning Library)\n",
      "700                                                                                            The Kid Who Came From Space\n",
      "708               Progress In Computer Science With Python Textbook & Practical Book For Class 12 [Paperback] Sumita Arora\n",
      "702                          World's Greatest Scientists & Inventors : Biographies of Inspirational Personalities For Kids\n",
      "712                       365 Facts on Space Book for Children Age 7-15 years, 80 Pages [Paperback] Dreamland Publications\n",
      "Name: Book_Title, dtype: object\n",
      "\n",
      "Combined Genres:\n",
      "732    Children's Books Computers & Technology Paperback\n",
      "746    Children's Books Computers & Technology Paperback\n",
      "737    Children's Books Computers & Technology Paperback\n",
      "717    Children's Books Computers & Technology Paperback\n",
      "735    Children's Books Computers & Technology Paperback\n",
      "744    Children's Books Computers & Technology Paperback\n",
      "700    Children's Books Computers & Technology Paperback\n",
      "708    Children's Books Computers & Technology Paperback\n",
      "702    Children's Books Computers & Technology Paperback\n",
      "712    Children's Books Computers & Technology Paperback\n",
      "Name: combined_features, dtype: object\n"
     ]
    }
   ],
   "source": [
    "from sklearn.feature_extraction.text import TfidfVectorizer\n",
    "from sklearn.metrics.pairwise import linear_kernel\n",
    "from fuzzywuzzy import process\n",
    "# Feature Engineering\n",
    "# Concatenate relevant text features into one feature\n",
    "final_df['combined_features'] = final_df['Main Genre'] + ' ' + final_df['Sub Genre'] + ' ' + final_df['Type']\n",
    "\n",
    "# TF-IDF Vectorization\n",
    "tfidf = TfidfVectorizer(stop_words='english')\n",
    "tfidf_matrix = tfidf.fit_transform(final_df['combined_features'])\n",
    "\n",
    "# Compute similarity scores\n",
    "cosine_sim = linear_kernel(tfidf_matrix, tfidf_matrix)\n",
    "data = final_df \n",
    "# Function to recommend books based on rating, number of people rated, and free text input\n",
    "def recommend_books(text_input, cosine_sim=cosine_sim):\n",
    "    # Check if the text input matches exactly with any book title\n",
    "    exact_match = data[data['Book_Title'].str.lower() == text_input.lower()]\n",
    "    if not exact_match.empty:\n",
    "        idx = exact_match.index[0]\n",
    "    else:\n",
    "        # If no exact match, use fuzzy string matching to find near matches\n",
    "        matches = process.extract(text_input, data['Book_Title'], limit=1)\n",
    "        closest_match = matches[0]\n",
    "        idx = data[data['Book_Title'] == closest_match[0]].index[0]\n",
    "\n",
    "    sim_scores = list(enumerate(cosine_sim[idx]))\n",
    "    sim_scores = sorted(sim_scores, key=lambda x: (x[1], data['Rating'].iloc[x[0]], data['No. of People rated'].iloc[x[0]]), reverse=True)\n",
    "    sim_scores = sim_scores[1:11]  # Top 10 similar books\n",
    "    book_indices = [i[0] for i in sim_scores]\n",
    "    recommended_titles = data['Book_Title'].iloc[book_indices]\n",
    "    recommended_genres = data['combined_features'].iloc[book_indices]\n",
    "    return recommended_titles, recommended_genres\n",
    "\n",
    "# Example recommendation\n",
    "recommendations, recommended_genres = recommend_books(\"space\")\n",
    "print(\"Recommended Titles:\")\n",
    "print(recommendations)\n",
    "print(\"\\nCombined Genres:\")\n",
    "print(recommended_genres)"
   ]
  },
  {
   "cell_type": "code",
   "execution_count": null,
   "id": "5cb22ede",
   "metadata": {
    "papermill": {
     "duration": 0.006645,
     "end_time": "2024-03-01T17:50:44.123782",
     "exception": false,
     "start_time": "2024-03-01T17:50:44.117137",
     "status": "completed"
    },
    "tags": []
   },
   "outputs": [],
   "source": []
  }
 ],
 "metadata": {
  "kaggle": {
   "accelerator": "none",
   "dataSources": [
    {
     "datasetId": 4454891,
     "sourceId": 7643170,
     "sourceType": "datasetVersion"
    }
   ],
   "dockerImageVersionId": 30664,
   "isGpuEnabled": false,
   "isInternetEnabled": true,
   "language": "python",
   "sourceType": "notebook"
  },
  "kernelspec": {
   "display_name": "Python 3",
   "language": "python",
   "name": "python3"
  },
  "language_info": {
   "codemirror_mode": {
    "name": "ipython",
    "version": 3
   },
   "file_extension": ".py",
   "mimetype": "text/x-python",
   "name": "python",
   "nbconvert_exporter": "python",
   "pygments_lexer": "ipython3",
   "version": "3.10.13"
  },
  "papermill": {
   "default_parameters": {},
   "duration": 11.844948,
   "end_time": "2024-03-01T17:50:44.851692",
   "environment_variables": {},
   "exception": null,
   "input_path": "__notebook__.ipynb",
   "output_path": "__notebook__.ipynb",
   "parameters": {},
   "start_time": "2024-03-01T17:50:33.006744",
   "version": "2.5.0"
  }
 },
 "nbformat": 4,
 "nbformat_minor": 5
}
